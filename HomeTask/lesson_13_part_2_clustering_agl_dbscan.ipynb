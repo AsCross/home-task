{
 "cells": [
  {
   "cell_type": "markdown",
   "metadata": {},
   "source": [
    "<font color = green >\n",
    "\n",
    "\n",
    "# Clustering part 2: Hierarchical clusterins and DBSCAN\n",
    "\n",
    "</font>\n"
   ]
  },
  {
   "cell_type": "code",
   "execution_count": 13,
   "metadata": {},
   "outputs": [],
   "source": [
    "import numpy as np \n",
    "import matplotlib.pyplot as plt "
   ]
  },
  {
   "cell_type": "code",
   "execution_count": null,
   "metadata": {},
   "outputs": [],
   "source": [
    "%matplotlib notebook"
   ]
  },
  {
   "cell_type": "markdown",
   "metadata": {},
   "source": [
    "<font color = green >\n",
    "\n",
    "## Recall kmeans \n",
    "\n",
    "</font>\n",
    "\n",
    "Note: Kmeans cannot capture complex clusters "
   ]
  },
  {
   "cell_type": "markdown",
   "metadata": {},
   "source": [
    "<font color = green >\n",
    "\n",
    "### Data \n",
    "\n",
    "</font>\n"
   ]
  },
  {
   "cell_type": "code",
   "execution_count": null,
   "metadata": {},
   "outputs": [],
   "source": [
    "def get_smile_points(pos=True, n = 100):\n",
    "    np.random.seed(0) \n",
    "    x_noise = np.random.uniform(-0.1,0.1,int(n*1.2))\n",
    "    y_noise = np.random.uniform(-0.1,0.1,int(n*1.2))\n",
    "    x= np.linspace (-3,3,n)\n",
    "    x_add= np.linspace (-3,-2.9,int(n/10))\n",
    "\n",
    "    x= np.r_[x,x_add, -x_add]\n",
    "    y_circle = np.sqrt(9-x**2)+ y_noise\n",
    "\n",
    "    X= np.r_[x+x_noise, x-x_noise]\n",
    "    Y = np.r_[y_circle, -y_circle]\n",
    "\n",
    "    x= np.linspace (-2,2,int(n/2))\n",
    "    y_lips = -np.sqrt(16-x**2) +4.5 + 2*y_noise[:int(n/2)]\n",
    "    X_smile= x\n",
    "    Y_pos= -np.sqrt(16-x**2) +2.5 + 2*y_noise[:int(n/2)] \n",
    "    Y_neg= np.sqrt(16-x**2) - 4.5 + 2*y_noise[:int(n/2)]\n",
    "\n",
    "    # X= np.r_[X,X_smile]\n",
    "    # Y = np.r_[Y,Y_neg]\n",
    "\n",
    "    x= np.linspace (-.3,.3,int(n/16))\n",
    "    y_eye = np.sqrt(.1-x**2) + y_noise[:int(n/16)]\n",
    "\n",
    "    X= np.r_[X,x-1,x-1, x+1, x+1 ]\n",
    "    Y = np.r_[Y,-y_eye+1, y_eye+1, -y_eye+1, y_eye+1]\n",
    "\n",
    "    X= np.r_[X,X_smile]\n",
    "    Y_1 = np.r_[Y,Y_pos]\n",
    "    Y_2 = np.r_[Y,Y_neg]\n",
    "    if pos:\n",
    "        return np.array(list((zip(X,Y_1))))\n",
    "    else: \n",
    "        return np.array(list((zip(X,Y_2))))\n",
    "\n",
    "plt.figure(figsize=(6,6))\n",
    "points= get_smile_points()\n",
    "plt.plot (points[:,0], points[:,1],'.',c= 'grey')\n",
    "\n"
   ]
  },
  {
   "cell_type": "code",
   "execution_count": null,
   "metadata": {},
   "outputs": [],
   "source": [
    "# deliberately created cell to avoid skipping next  cell execution"
   ]
  },
  {
   "cell_type": "code",
   "execution_count": null,
   "metadata": {},
   "outputs": [],
   "source": [
    "from sklearn.cluster import KMeans"
   ]
  },
  {
   "cell_type": "code",
   "execution_count": null,
   "metadata": {},
   "outputs": [],
   "source": [
    "points = get_smile_points(pos=False)"
   ]
  },
  {
   "cell_type": "code",
   "execution_count": null,
   "metadata": {},
   "outputs": [],
   "source": [
    "clf = KMeans(n_clusters=4) \n",
    "clf.fit(points)\n",
    "predicted= clf.predict(points)"
   ]
  },
  {
   "cell_type": "code",
   "execution_count": null,
   "metadata": {},
   "outputs": [],
   "source": [
    "plt.figure(figsize=(6,6))\n",
    "colors=  np.array(['green','grey', 'orange', 'brown'])\n",
    "\n",
    "# draw samples \n",
    "plt.scatter(points[:,0], points[:,1], c= colors[predicted], marker= '.')\n",
    "\n",
    "# draw centroids \n",
    "for i, c in enumerate (clf.cluster_centers_):    \n",
    "    plt.plot(c[0], c[1], marker = 'x', color= colors[i], markersize=14) \n",
    "    \n",
    "plt.title ('sklearn kmeans')\n"
   ]
  },
  {
   "cell_type": "code",
   "execution_count": null,
   "metadata": {},
   "outputs": [],
   "source": [
    "# deliberately created cell to avoid skipping next  cell execution"
   ]
  },
  {
   "cell_type": "markdown",
   "metadata": {},
   "source": [
    "<font color = green >\n",
    "\n",
    "## Hierarchical (agglomerative) clustering\n",
    "\n",
    "</font>\n",
    "\n",
    "Algorithm: <br>\n",
    "$\\quad\\quad$ 1) Define number $K$ of clusters <br>\n",
    "$\\quad\\quad$ 2) Each data point is put into its own cluster of one item <br>\n",
    "$\\quad\\quad$ 3) Merge the most similar two clusters into a new cluster<br>\n",
    "$\\quad\\quad$ 4) Repeat step 2 till number of remaining clusters succeeds $K$\n",
    "\n",
    "<img src = \"aglomerative_clustering.png\" height=1000 width= 1000 align=\"left\">\n",
    "\n"
   ]
  },
  {
   "cell_type": "markdown",
   "metadata": {},
   "source": [
    "<font color = green >\n",
    "\n",
    "### Linkage criteria \n",
    "\n",
    "</font>\n",
    "\n",
    "\n",
    "There are following possible linkage criteria to determine the most similar clusters for agglomerative clustering algorithm:<br>\n",
    "$\\quad\\quad$    1) ward - merges two clusters that give the smallest increase in total variance within all clusters<br>\n",
    "$\\quad\\quad$    2) average - merges two clusters that have the smallest average distance between points<br>\n",
    "$\\quad\\quad$    3) complete (maximum linkage) - merges the two clusters that have the smallest maximum distance between their points<br>\n",
    "$\\quad\\quad$    4) single (minimum linkage) - merges the two clusters that have the smallest minimum distance between their points\n",
    "\n"
   ]
  },
  {
   "cell_type": "markdown",
   "metadata": {},
   "source": [
    "<font color = green >\n",
    "\n",
    "### Implemenation of single linkage \n",
    "\n",
    "</font>\n",
    "\n"
   ]
  },
  {
   "cell_type": "markdown",
   "metadata": {},
   "source": [
    "<font color = green >\n",
    "\n",
    "#### Cache all distances \n",
    "\n",
    "</font>\n",
    "\n",
    "Caching the values of distances between each pair of points should speed up the process since merging clusters at every step of agglomerative clustering computes min distance between all pairs of points from both clusters \n"
   ]
  },
  {
   "cell_type": "code",
   "execution_count": null,
   "metadata": {},
   "outputs": [],
   "source": [
    "def calc_all_distances(points):\n",
    "    all_distances = {}\n",
    "    for i in range(len(points)):\n",
    "        for j in range(i + 1):\n",
    "            key_distance = '{}_{}'.format(i, j)\n",
    "            reverse_key_distance = '{}_{}'.format(j, i)\n",
    "            all_distances[key_distance] = all_distances[reverse_key_distance] = np.linalg.norm(points[i]-points[j])\n",
    "    return all_distances\n",
    "\n",
    "# test_points = np.array([[0,0], [1,1], [2,2], [7,7], [8,8], [9,9]])\n",
    "# print(test_points)\n",
    "# calc_all_distances(test_points)\n",
    "\n"
   ]
  },
  {
   "cell_type": "code",
   "execution_count": null,
   "metadata": {},
   "outputs": [],
   "source": [
    "# implement single distance  between 2 clusters \n",
    "def calc_min_distance_of_two_clusters(cluster_a, cluster_b, all_distances):\n",
    "    '''\n",
    "    :param cluster_a -  list e.g. [1,4,56]\n",
    "    :param cluster_b -  list e.g. [2,34,78]\n",
    "    :all_distances -  dict e.g.{'0_0': 0.0, '1_0': 0.5630650985836898, '0_1': 0.5630650985836898, '1_1': 0.0, '2_0': 0.9000430792627307, '0_2': 0.9000430792627307,\n",
    "    :return - min distance between all pairs fo two clusters \n",
    "    '''\n",
    "    return min([all_distances['{}_{}'.format(keyword_index_a,keyword_index_b)] for keyword_index_a in cluster_a for keyword_index_b in cluster_b])\n",
    "\n",
    "# choose the closest clusters \n",
    "def compute_next_merge(clusters, all_distances):\n",
    "    '''\n",
    "    calculates candidates ( the closest by similarity clusters)\n",
    "    :param resulted_clusters: dictionary like {3: [15,3,56,1]}\n",
    "    :return: calculated score \n",
    "    '''\n",
    "    labels= list(clusters.keys())\n",
    "    # init score\n",
    "    min_distance = calc_min_distance_of_two_clusters(clusters[labels[0]],clusters[labels[1]],all_distances )\n",
    "    # init the canidates\n",
    "    clusters_to_merge = [labels[0], labels[1]] \n",
    "    for i in range (len(labels)-1):\n",
    "        for j in range(i+1,len(labels)):\n",
    "            curr_min_distance= calc_min_distance_of_two_clusters(clusters[labels[i]],clusters[labels[j]], all_distances)\n",
    "            if curr_min_distance < min_distance: \n",
    "                min_distance = curr_min_distance\n",
    "                clusters_to_merge = [labels[i],labels[j]]\n",
    "    return min_distance, clusters_to_merge\n",
    "\n",
    "# merge two closest clusters \n",
    "def merge_clusters(current_clusters,clusters_to_merge):\n",
    "    '''\n",
    "    :param current_clusters: dict of pairs: label and cluster (list of indices of keywords) e.g. {1: [23,5,5]}\n",
    "    :param clusters_to_merge: list of 2 labels of closest clusters - candidates to merge e.g. [34,57]\n",
    "    :return:\n",
    "    '''\n",
    "    # replace the first component by merged cluster\n",
    "    current_clusters[clusters_to_merge[0]] += current_clusters[clusters_to_merge[1]]\n",
    "    # remove the second component from total list  \n",
    "    del current_clusters[clusters_to_merge[1]]\n",
    "    return current_clusters\n",
    "\n",
    "\n",
    "# run clustering process \n",
    "def run_agglomerative_clustering(points, n_clusters=1):\n",
    "    resulted_clusters={i: [i] for i in range(len(points))}    \n",
    "    while len(resulted_clusters)>n_clusters:\n",
    "        # determinethe closest clusters\n",
    "        min_distance, clusters_to_merge=  compute_next_merge(resulted_clusters, all_distances)        \n",
    "        \n",
    "        # print progress\n",
    "        if (len(resulted_clusters)) % 10 == 0:\n",
    "            print ('len(clusters)= {:,} distance = {}'.format(len(resulted_clusters), min_distance))\n",
    "        \n",
    "        # merge 2 closest clusters         \n",
    "        resulted_clusters= merge_clusters(resulted_clusters, clusters_to_merge)\n",
    "    return resulted_clusters\n",
    "\n",
    "\n",
    "\n"
   ]
  },
  {
   "cell_type": "markdown",
   "metadata": {},
   "source": [
    "<font color = green >\n",
    "\n",
    "#### Shuffle the points \n",
    "\n",
    "</font>\n"
   ]
  },
  {
   "cell_type": "code",
   "execution_count": null,
   "metadata": {},
   "outputs": [],
   "source": [
    "points= get_smile_points()\n",
    "print (points[:5])\n",
    "np.random.shuffle(points) \n",
    "print ('\\n shuffled:\\n', points[:5])"
   ]
  },
  {
   "cell_type": "markdown",
   "metadata": {},
   "source": [
    "<font color = green >\n",
    "\n",
    "#### Cache all distances for target points \n",
    "\n",
    "</font>\n"
   ]
  },
  {
   "cell_type": "code",
   "execution_count": null,
   "metadata": {},
   "outputs": [],
   "source": [
    "# cache all distances  \n",
    "all_distances=  calc_all_distances(points)\n",
    "print ('len (points)= {:,}'.format(len (points)))\n",
    "print ('len (all_distances)= {:,}'.format(len (all_distances)))"
   ]
  },
  {
   "cell_type": "markdown",
   "metadata": {},
   "source": [
    "<font color = green >\n",
    "\n",
    "#### Launch agglomerative clustering \n",
    "\n",
    "</font>\n"
   ]
  },
  {
   "cell_type": "code",
   "execution_count": null,
   "metadata": {},
   "outputs": [],
   "source": [
    "n_clusters= 4\n",
    "results = run_agglomerative_clustering(points, n_clusters=n_clusters)\n",
    "print ('\\nClustering complete.')"
   ]
  },
  {
   "cell_type": "markdown",
   "metadata": {},
   "source": [
    "<font color = green >\n",
    "\n",
    "#### Visualize results \n",
    "\n",
    "</font>\n"
   ]
  },
  {
   "cell_type": "code",
   "execution_count": null,
   "metadata": {},
   "outputs": [],
   "source": [
    "# print structure of results \n",
    "for k, value in results.items():\n",
    "    print ('index = {} (len = {:,}) : {}'.format(k, len(value), value[:10] ))\n",
    "    \n",
    "# enumerate the inices of clusters     \n",
    "enumerated= {i: value[1] for i, value in enumerate(results.items())}\n",
    "# create list of cluster indices \n",
    "predicted= [k for i in range(len(points))     for k, v in enumerated.items()  if i in v ]\n",
    "\n",
    "# predicted= compute_current_clusters_indices(results, n_clusters)\n",
    "print ('\\nPredicted cluster indices for points:\\n',predicted)"
   ]
  },
  {
   "cell_type": "code",
   "execution_count": null,
   "metadata": {},
   "outputs": [],
   "source": [
    "plt.figure(figsize=(6,6))\n",
    "colors=  np.array(['green','grey', 'orange', 'brown', 'blue', 'yellow'])\n",
    "plt.scatter(points[:,0], points[:,1], c= colors[predicted], marker= '.')    \n",
    "plt.title ('manual agglomerative')"
   ]
  },
  {
   "cell_type": "code",
   "execution_count": null,
   "metadata": {},
   "outputs": [],
   "source": []
  },
  {
   "cell_type": "markdown",
   "metadata": {},
   "source": [
    "<font color = green >\n",
    "\n",
    "### Visualize process of merging \n",
    "\n",
    "</font>\n"
   ]
  },
  {
   "cell_type": "code",
   "execution_count": null,
   "metadata": {},
   "outputs": [],
   "source": [
    "from matplotlib import animation\n",
    "# from tqdm import tqdm # use for displaying progress \n",
    "from time import sleep \n",
    "from tqdm import trange # use for displaying progress \n"
   ]
  },
  {
   "cell_type": "markdown",
   "metadata": {},
   "source": [
    "<font color = green >\n",
    "\n",
    "#### Convert format of cluster objects to list of clusters indices \n",
    "\n",
    "</font>\n"
   ]
  },
  {
   "cell_type": "code",
   "execution_count": null,
   "metadata": {},
   "outputs": [],
   "source": [
    "def compute_current_clusters_indices(curr_clusters, clusters_to_merge):\n",
    "    ind_a, ind_b = clusters_to_merge\n",
    "    predicted = []\n",
    "    for i in range(len(points)): # index of point \n",
    "        for k, v in curr_clusters.items(): # k - index of cluster , v - list of indices of points \n",
    "            if i in v: # point pertains to this cluster \n",
    "                if k == ind_a:\n",
    "                    predicted.append(2) # is going to be merged from cluster 1\n",
    "                elif k == ind_b:\n",
    "                    predicted.append(3) # is going to be merged from cluster 2\n",
    "                elif len(v)>1: \n",
    "                    predicted.append(0) # merged at least once \n",
    "                else:\n",
    "                    predicted.append(1) # never merged at least once \n",
    "\n",
    "    return predicted\n"
   ]
  },
  {
   "cell_type": "markdown",
   "metadata": {},
   "source": [
    "<font color = green >\n",
    "\n",
    "#### Animate the clustering steps\n",
    "\n",
    "</font>\n"
   ]
  },
  {
   "cell_type": "code",
   "execution_count": null,
   "metadata": {},
   "outputs": [],
   "source": [
    "def update(curr): # note: does not notify about errors just does not work. ain't that b... ((\n",
    "    ax.clear()\n",
    "    colors=  np.array(['green','grey', 'orange', 'brown', 'blue', 'yellow'])\n",
    "    sizes = np.array([30,30,60, 60, 300, 30])\n",
    "\n",
    "    global points\n",
    "    x1, x2 = np.array(list((zip(*points))))\n",
    "\n",
    "    global resulted_clusters\n",
    "    global all_distances\n",
    "    global n_clusters\n",
    "\n",
    "    if len(resulted_clusters)<= n_clusters:\n",
    "        a.event_source.stop()\n",
    "    \n",
    "    # perfrom step of agglomerative clustering but plot the clusters to merge before merging      \n",
    "    min_distance, clusters_to_merge=  compute_next_merge(resulted_clusters, all_distances)        \n",
    "    curr_predicted= compute_current_clusters_indices(resulted_clusters, clusters_to_merge)#  first_cluster)\n",
    "    plt.scatter(x1, x2, c= colors[curr_predicted], marker= '.', s= sizes[curr_predicted])       \n",
    "    \n",
    "    resulted_clusters= merge_clusters(resulted_clusters, clusters_to_merge)\n",
    "    \n",
    "\n",
    "    # ax.plot(np.random.rand(10)) # use to test annimation is working\n",
    "    plt.title('len(clusters)= {:,} distance = {}'.format(len(resulted_clusters)+1, min_distance)) \n",
    "\n",
    "# init clusters - one per point  \n",
    "resulted_clusters={i: [i] for i in range(len(points))}    \n",
    "\n",
    "print ('Running some iterations w/o plotting...')\n",
    "sleep(.5) # .5 seconds  - to avoid progress bar splitted to two \n",
    "for i in trange(260): # Running some iterations w/o plotting\n",
    "    min_distance, clusters_to_merge=  compute_next_merge(resulted_clusters, all_distances)        \n",
    "    resulted_clusters= merge_clusters(resulted_clusters, clusters_to_merge)\n",
    "\n",
    "fig = plt.figure(figsize=(6,6))\n",
    "ax = plt.gca()\n",
    "a = animation.FuncAnimation(fig, update, interval=1000) # Note: you need to assign the result in order to be able to stop the animation \n"
   ]
  },
  {
   "cell_type": "code",
   "execution_count": null,
   "metadata": {},
   "outputs": [],
   "source": []
  },
  {
   "cell_type": "markdown",
   "metadata": {},
   "source": [
    "<font color = green >\n",
    "\n",
    "## Sklearn \n",
    "\n",
    "</font>\n"
   ]
  },
  {
   "cell_type": "code",
   "execution_count": null,
   "metadata": {},
   "outputs": [],
   "source": [
    "from sklearn.cluster import AgglomerativeClustering"
   ]
  },
  {
   "cell_type": "code",
   "execution_count": null,
   "metadata": {},
   "outputs": [],
   "source": [
    "points = get_smile_points(pos=False)\n",
    "clf = AgglomerativeClustering(n_clusters=4, linkage= 'ward')  # single linkage was not available in sklearn \n",
    "# available linkage : {“ward”, “complete”, “average”, “single” ! WRONG ! }, optional (default=”ward”)\n",
    "predicted = clf.fit_predict(points)\n"
   ]
  },
  {
   "cell_type": "code",
   "execution_count": null,
   "metadata": {
    "scrolled": false
   },
   "outputs": [],
   "source": [
    "plt.figure(figsize=(6,6))\n",
    "plt.scatter(points[:,0], points[:,1], c= colors[predicted], marker= '.') \n",
    "plt.title ('sklearn kmeans')\n"
   ]
  },
  {
   "cell_type": "code",
   "execution_count": null,
   "metadata": {},
   "outputs": [],
   "source": [
    "# single linkage is now available in sklearn \n",
    "points = get_smile_points()\n",
    "clf = AgglomerativeClustering(n_clusters=4, linkage= 'single') \n",
    "predicted = clf.fit_predict(points)\n",
    "\n",
    "plt.figure(figsize=(6,6))\n",
    "plt.scatter(points[:,0], points[:,1], c= colors[predicted], marker= '.') \n",
    "plt.title ('sklearn kmeans')\n"
   ]
  },
  {
   "cell_type": "markdown",
   "metadata": {},
   "source": [
    "<font color = green >\n",
    "\n",
    "## Scipy\n",
    "\n",
    "</font>\n"
   ]
  },
  {
   "cell_type": "code",
   "execution_count": null,
   "metadata": {},
   "outputs": [],
   "source": [
    "from scipy.cluster.hierarchy import complete, average, linkage, single, dendrogram\n",
    "import itertools"
   ]
  },
  {
   "cell_type": "markdown",
   "metadata": {},
   "source": [
    "<font color = green >\n",
    "\n",
    "### Condensed matrix\n",
    "\n",
    "</font>\n"
   ]
  },
  {
   "cell_type": "code",
   "execution_count": null,
   "metadata": {},
   "outputs": [],
   "source": [
    "def calc_condensed_matrix(points):\n",
    "    '''\n",
    "    Computes the condensed distance matrix\n",
    "    e.g. for 3 elements:  [dist(0,1), dist(0,2),dist(1,2)]\n",
    "    e.g. for 4 elements: [dist(0,1), dist(0,2), dist(0,3), dist(1,2), dist(1,3), dist(2,3)]\n",
    "    '''\n",
    "\n",
    "    m= len(points)\n",
    "    # compute number of combinations      \n",
    "    combinations = list(itertools.combinations(range(m), 2))\n",
    "    len_of_condensed_matrix= len(combinations)\n",
    "    # init matrix of necessary size      \n",
    "    condensed_matrix= np.zeros(len_of_condensed_matrix)    \n",
    "    \n",
    "    for i in trange(len_of_condensed_matrix):\n",
    "        pair_indices= combinations[i]\n",
    "        condensed_matrix[i] =  np.linalg.norm(points[pair_indices[0]]-points[pair_indices[1]])\n",
    "\n",
    "    return condensed_matrix\n",
    "\n",
    "# calc_condensed_matrix(test_points)"
   ]
  },
  {
   "cell_type": "code",
   "execution_count": null,
   "metadata": {},
   "outputs": [],
   "source": [
    "points = get_smile_points()\n",
    "print (len(points))"
   ]
  },
  {
   "cell_type": "code",
   "execution_count": null,
   "metadata": {},
   "outputs": [],
   "source": [
    "# compute condensed matrix \n",
    "condensed_matrix = calc_condensed_matrix(points)\n"
   ]
  },
  {
   "cell_type": "markdown",
   "metadata": {},
   "source": [
    "<font color = green >\n",
    "\n",
    "### Linkage matrix\n",
    "\n",
    "</font>\n"
   ]
  },
  {
   "cell_type": "code",
   "execution_count": null,
   "metadata": {},
   "outputs": [],
   "source": [
    "linkage_matrix = single(condensed_matrix)\n",
    "# each row is step of merging: \n",
    "# [0] and [1] are indices of clusters to merge, \n",
    "# [2] - distance at that merging \n",
    "#  number of members in resulted cluster after merging  \n",
    "\n",
    "print ('len(linkage_matrix)= ', len(linkage_matrix))\n",
    "linkage_matrix[50:]"
   ]
  },
  {
   "cell_type": "markdown",
   "metadata": {},
   "source": [
    "<font color = green >\n",
    "\n",
    "### Merge two clusters managed by scipy \n",
    "\n",
    "</font>\n",
    "\n",
    "This requires correction by creating new labels (cluster indices) as they are in linkage matrix provided by scipy "
   ]
  },
  {
   "cell_type": "code",
   "execution_count": null,
   "metadata": {},
   "outputs": [],
   "source": [
    "def merge_clusters_scipy(current_clusters,clusters_to_merge, new_label, expected_total):\n",
    "    '''\n",
    "    :param current_clusters- dict, keys are indices of clusters, values are lists of indices of points e.g. {1: [23,5,5]...}\n",
    "    :param clusters_to_merge: list of 2 labels of closest clusters - candidates to merge e.g. [34,57]\n",
    "    :param new_label: int - the label generated by scipy.cluster.hierarchy\n",
    "    :param expected_total: optional  - to check the anount of new cluster after merge due to provided by scipy.cluster.hierarchy\n",
    "    :return:\n",
    "    '''\n",
    "    ind_a, ind_b = clusters_to_merge\n",
    "    current_clusters[new_label] = current_clusters[ind_a] + current_clusters[ind_b]\n",
    "    assert(len(current_clusters[new_label]) == expected_total)\n",
    "\n",
    "    del current_clusters[ind_a]\n",
    "    del current_clusters[ind_b]\n",
    "\n",
    "    return current_clusters\n"
   ]
  },
  {
   "cell_type": "markdown",
   "metadata": {},
   "source": [
    "<font color = green >\n",
    "\n",
    "### Execute clustering managed by linkage matrix \n",
    "\n",
    "</font>"
   ]
  },
  {
   "cell_type": "code",
   "execution_count": null,
   "metadata": {},
   "outputs": [],
   "source": [
    "# init clusters - one cluster for every keyword\n",
    "resulted_clusters= {i: [i] for i in range(len(points))} \n",
    "\n",
    "for i in range (len(linkage_matrix) - n_clusters + 1):    \n",
    "    \n",
    "    # get indices of clusters to merge \n",
    "    clusters_to_merge = (linkage_matrix[i,0],linkage_matrix[i,1])        \n",
    "    \n",
    "    # consider expected numbers of new cluster after merge for check \n",
    "    excpected_total =  linkage_matrix[i,3]    \n",
    "\n",
    "    # replicate the label generated by scipy.cluster.hierarchy\n",
    "    new_label = i + len(points) \n",
    "    \n",
    "    # execute merging    \n",
    "    resulted_clusters= merge_clusters_scipy(resulted_clusters, clusters_to_merge, new_label, excpected_total)\n",
    "\n",
    "\n",
    "# outliers= [label for label in resulted_clusters if len(resulted_clusters[label][0])==1]\n",
    "# print ('\\n= Results =')\n",
    "# print ('Clusters number: {:,}'.format(len(resulted_clusters)-len(outliers)))\n",
    "# print ('Outliers number: {:,}'.format(len(outliers)))\n"
   ]
  },
  {
   "cell_type": "markdown",
   "metadata": {},
   "source": [
    "<font color = green >\n",
    "\n",
    "### Review resulted clusters\n",
    "\n",
    "</font>"
   ]
  },
  {
   "cell_type": "code",
   "execution_count": null,
   "metadata": {},
   "outputs": [],
   "source": [
    "for k,v in resulted_clusters.items():\n",
    "    print ('{}:{}'.format (k, v[:10]))\n"
   ]
  },
  {
   "cell_type": "markdown",
   "metadata": {},
   "source": [
    "<font color = green >\n",
    "\n",
    "### Visualize results \n",
    "\n",
    "</font>"
   ]
  },
  {
   "cell_type": "code",
   "execution_count": null,
   "metadata": {},
   "outputs": [],
   "source": [
    "# enumerate the inices of clusters     \n",
    "enumerated= {i: value[1] for i, value in enumerate(resulted_clusters.items())}\n",
    "# create list of cluster indices \n",
    "predicted= [k for i in range(len(points))     for k, v in enumerated.items()  if i in v ]\n",
    "print (predicted)"
   ]
  },
  {
   "cell_type": "code",
   "execution_count": null,
   "metadata": {},
   "outputs": [],
   "source": [
    "plt.figure(figsize=(6,6))\n",
    "colors=  np.array(['green','grey', 'orange', 'brown', 'blue', 'yellow'])\n",
    "plt.scatter(points[:,0], points[:,1], c= colors[predicted], marker= '.')    \n",
    "plt.title ('scipy agglomerative')"
   ]
  },
  {
   "cell_type": "markdown",
   "metadata": {},
   "source": [
    "<font color = green >\n",
    "\n",
    "## Dendrogram\n",
    "\n",
    "</font>"
   ]
  },
  {
   "cell_type": "code",
   "execution_count": null,
   "metadata": {
    "scrolled": false
   },
   "outputs": [],
   "source": [
    "test_points = np.array([[0,0], [1,1], [3,3], [7,7], [7,8], [20,20],[22,22] ])\n",
    "condensed_matrix_test = calc_condensed_matrix(test_points)\n",
    "linkage_matrix_test = single(condensed_matrix_test)\n",
    "plt.figure()\n",
    "dendrogram(linkage_matrix_test);"
   ]
  },
  {
   "cell_type": "code",
   "execution_count": null,
   "metadata": {
    "scrolled": false
   },
   "outputs": [],
   "source": [
    "# plt.figure(figsize=(8,10))\n",
    "# dendrogram(linkage_matrix,no_labels=True, )"
   ]
  },
  {
   "cell_type": "markdown",
   "metadata": {},
   "source": [
    "<font color = green >\n",
    "\n",
    "## Sample of clustering keywords \n",
    "\n",
    "</font>"
   ]
  },
  {
   "cell_type": "code",
   "execution_count": null,
   "metadata": {},
   "outputs": [],
   "source": [
    "import pickle\n",
    "import time\n",
    "import itertools\n",
    "from scipy.cluster.hierarchy import complete, dendrogram, average, linkage\n",
    "from sklearn.feature_extraction.text import CountVectorizer\n",
    "import re\n",
    "import math\n",
    "import numpy as np\n",
    "import pandas as pd\n",
    "import nltk\n",
    "from nltk.tokenize import word_tokenize\n",
    "from nltk.corpus import wordnet as wn\n",
    "from nltk.corpus import stopwords\n",
    "from tqdm import trange \n"
   ]
  },
  {
   "cell_type": "code",
   "execution_count": null,
   "metadata": {},
   "outputs": [],
   "source": [
    "def convert_siliratity_to_distance(phrase_similarity):\n",
    "    return 20 if phrase_similarity==0 else abs(math.log(phrase_similarity,0.8))  # abs to avoid -0.0 but probably it's ok\n",
    "\n",
    "def calc_phrase_similarity(current_phrase, target_phrase):\n",
    "    '''\n",
    "    current_phrase - str - one of all phrases in the list\n",
    "    target phrase is stored in self.target_words\n",
    "    '''\n",
    "    if len (current_phrase)== 0 or len(target_phrase)== 0:\n",
    "        return 0\n",
    "\n",
    "    # target_phrase_words = word_tokenize(target_phrase)\n",
    "    target_phrase_words = word_tokenize(target_phrase)\n",
    "    target_phrase_words= remove_stop_words(target_phrase_words)\n",
    "    # current_phrase_words = word_tokenize(current_phrase)\n",
    "    current_phrase_words = word_tokenize(current_phrase)\n",
    "    current_phrase_words = remove_stop_words(current_phrase_words)\n",
    "\n",
    "    tw_all_similarities= [target_word_similarity_score(current_phrase_words, tw) for tw in target_phrase_words]\n",
    "    if len(tw_all_similarities)>0:\n",
    "        tw_similarity= np.mean(tw_all_similarities)\n",
    "    else:\n",
    "        tw_similarity =  0\n",
    "\n",
    "    cw_all_similarities= [target_word_similarity_score(target_phrase_words, cw) for cw in current_phrase_words]\n",
    "    if len(cw_all_similarities)>0:\n",
    "        cw_similarity= np.mean(cw_all_similarities)\n",
    "    else:\n",
    "        cw_similarity = 0\n",
    "\n",
    "    return np.mean([tw_similarity, cw_similarity])\n",
    "\n",
    "\n",
    "def target_word_similarity_score(current_words, target_word):\n",
    "    '''\n",
    "    Calculates similarity between all current words (all synsets) and ONE target word (all synsets)\n",
    "    in case word has no synsets the Levinshtein distance is calculated and score calculated as 0.8^Ld (1 diff - 0.8, 2 - 0.64, 3- 0.51, ...)\n",
    "    :param current_words: list of words of current phrase\n",
    "    :param target_word: str\n",
    "    :return: float\n",
    "    '''\n",
    "    if len(current_words)==0:\n",
    "        return 0\n",
    "    all_current_words_similarities= []\n",
    "    for current_word in current_words:\n",
    "        all_current_words_similarities.append(calc_memoized_words_similarity(current_word, target_word))\n",
    "    if len(all_current_words_similarities)==0:\n",
    "        return 0\n",
    "    return max(all_current_words_similarities)\n",
    "\n",
    "def calc_memoized_words_similarity(word_a, word_b):\n",
    "    '''wrapper on calc_words_similarity'''\n",
    "    key_memo = '{}_{}'.format(word_a, word_b)\n",
    "    if key_memo in memoized_words_similarity:\n",
    "        return memoized_words_similarity[key_memo]\n",
    "    key_memo_reversed = '{}_{}'.format(word_b,word_a)\n",
    "    if key_memo_reversed in memoized_words_similarity:\n",
    "        return memoized_words_similarity[key_memo_reversed]\n",
    "    memoized_words_similarity[key_memo] = calc_words_similarity(word_a,word_b)\n",
    "    return memoized_words_similarity[key_memo]\n",
    "\n",
    "def calc_words_similarity(word_a,word_b):\n",
    "    ''' Calculates wup similarity if synsets available else score based on edit distance\n",
    "        in case of synsets available returns max of all values\n",
    "    '''\n",
    "    word_a_synsets = get_memoized_synsets(word_a)\n",
    "    word_b_synsets = get_memoized_synsets(word_b)\n",
    "    if len (word_a_synsets)==0 or len (word_b_synsets)==0:\n",
    "        return calc_edit_score(word_a,word_b)\n",
    "    else:\n",
    "        similarities_all_synsets= []\n",
    "        for word_a_synset in word_a_synsets:\n",
    "            for word_b_synset in word_b_synsets:\n",
    "                if word_a_synset.pos() == word_b_synset.pos():  # this speeds up the calculation\n",
    "                    synsets_similarity =  calc_memoized_similarity(word_a_synset, word_b_synset)\n",
    "                    if synsets_similarity: # some time return None\n",
    "                        similarities_all_synsets.append(synsets_similarity)\n",
    "                    else:\n",
    "                        similarities_all_synsets.append(0)\n",
    "                else:\n",
    "                    similarities_all_synsets.append(0)\n",
    "        return max(similarities_all_synsets)\n",
    "\n",
    "def get_memoized_synsets(word):\n",
    "    if word not in memoized_synsets:\n",
    "        memoized_synsets[word]= wn.synsets(word)\n",
    "    return memoized_synsets[word]\n",
    "\n",
    "\n",
    "def calc_memoized_similarity (current_word_synset, target_word_synset):\n",
    "    key_memo = '{}_{}'.format(current_word_synset.name(),target_word_synset.name())\n",
    "    if key_memo in memoized_synsets_similarities:\n",
    "        return memoized_synsets_similarities[key_memo]\n",
    "    key_memo_reversed = '{}_{}'.format(target_word_synset.name(), current_word_synset.name())\n",
    "    if key_memo_reversed in memoized_synsets_similarities:\n",
    "        return memoized_synsets_similarities[key_memo_reversed]\n",
    "    memoized_synsets_similarities[key_memo] = current_word_synset.wup_similarity(target_word_synset)\n",
    "    return memoized_synsets_similarities[key_memo]\n",
    "\n",
    "def calc_edit_score(w1, w2):\n",
    "    '''calc the score being based on edit (Levinshtein) distance\n",
    "        1 difference - 0.8, 2- 0.64, 3-.51 ...\n",
    "    '''\n",
    "    edit_dist = nltk.edit_distance(w1, w2)\n",
    "    if edit_dist> len (w1) or edit_dist> len (w2): # no common letter\n",
    "        return 0\n",
    "    return 0.8 ** edit_dist\n",
    "\n",
    "\n",
    "def remove_stop_words(words):\n",
    "    words_to_remove = [w for w in words if w in stop_words]# or len(w)<3]  # # remove short words # Note: Decided to keep all tokens to avoid empty results\n",
    "    return [w for w in words if w not in words_to_remove]\n",
    "\n",
    "def calc_condensed_matrix_keywords(keywords_list):\n",
    "    '''\n",
    "    Computes the condensed distance matrix\n",
    "    e.g. for 3 elements:  [dist(0,1), dist(0,2),dist(1,2)]\n",
    "    e.g. for 4 elements: [dist(0,1), dist(0,2), dist(0,3), dist(1,2), dist(1,3), dist(2,3)]\n",
    "    '''\n",
    "    fn = 'distance_matrix_pickle_{}'.format(len(keywords_list))\n",
    "    \n",
    "    if not os.path.exists(fn):\n",
    "        len_keywords= len(keywords_list)\n",
    "        len_of_condensed_matrix= len(list(itertools.combinations(range(len_keywords), 2)))\n",
    "        condensed_matrix= np.zeros(len_of_condensed_matrix)\n",
    "        all_combinations= list(itertools.combinations(range(len_keywords), 2))\n",
    "        last_progress= 0\n",
    "        for i in trange(len_of_condensed_matrix):\n",
    "            current_progress = '{:.1%}'.format(i/len(all_combinations))\n",
    "            if current_progress !=last_progress:\n",
    "#                 print ('Progress = {:,} of {:,} ({:.1%})'.format(i, len(all_combinations), (i/len(all_combinations))))\n",
    "                last_progress= current_progress\n",
    "            pair_indeces= all_combinations[i]\n",
    "            condensed_matrix[i] = convert_siliratity_to_distance(calc_phrase_similarity(keywords_list[pair_indeces[0]], keywords_list[pair_indeces[1]]))\n",
    "\n",
    "        with open(fn, \"wb\") as f:  # write bytes mode\n",
    "            pickle.dump(condensed_matrix, f, pickle.HIGHEST_PROTOCOL)\n",
    "\n",
    "    else:\n",
    "        print ('Condensed distance matrix is precomputed already')\n",
    "        with open(fn, 'rb') as f:\n",
    "            condensed_matrix = pickle.load(f)\n",
    "\n",
    "    return condensed_matrix\n",
    "\n",
    "def merge_clusters(current_clusters,clusters_to_merge, new_label, expected_total):\n",
    "    '''\n",
    "    :param current_clusters: dict of pairs: label and (cluster+main_phrase)  =  (list of indices of keywords) e.g. {1: [23,5,5]}\n",
    "        main phrase is the first keyword at creating cluster - lets consider it as core of cluster since it gets merged first - thus the closest to all rest\n",
    "    :param clusters_to_merge: list of 2 labels of closest clusters - candidates to merge e.g. [34,57]\n",
    "    :param new_label: int  - the label generated by scipy.cluster.hierarchy\n",
    "    :param expected_total: optional  - to check the anount of new cluster after merge due to provided by scipy.cluster.hierarchy\n",
    "    :return:\n",
    "    '''\n",
    "    new_list =current_clusters[clusters_to_merge[0]][0]+ current_clusters[clusters_to_merge[1]][0]\n",
    "    main_phrase = current_clusters[clusters_to_merge[0]][1]\n",
    "    current_clusters[new_label] = (new_list, main_phrase)\n",
    "    if len (current_clusters[new_label][0]) != expected_total:\n",
    "        raise SystemExit('Error at merging clusters')\n",
    "\n",
    "    del current_clusters[clusters_to_merge[0]]\n",
    "    del current_clusters[clusters_to_merge[1]]\n",
    "\n",
    "    return current_clusters\n",
    "\n",
    "\n",
    "def get_frequent_words(keywords_list, top_number= 3):\n",
    "    # print (keywords_list)\n",
    "    vect = CountVectorizer().fit(keywords_list)\n",
    "    features = vect.get_feature_names()\n",
    "    all_words = ' '.join(keywords_list)\n",
    "    # words_count_dict = ({w: all_words.count(w) for w in re.findall(r\"[\\w]+\", all_words) if len(w) > 2})\n",
    "    features_count_dict = {feature: all_words.count(feature) for feature in features if len(feature) > 2}\n",
    "    if len(features_count_dict)<top_number:\n",
    "        return sorted(features_count_dict , key=features_count_dict .get, reverse=True)\n",
    "    return sorted(features_count_dict , key=features_count_dict .get, reverse=True)[:top_number]\n",
    "\n"
   ]
  },
  {
   "cell_type": "markdown",
   "metadata": {},
   "source": [
    "<font color = green >\n",
    "\n",
    "### Load data\n",
    "\n",
    "</font>"
   ]
  },
  {
   "cell_type": "code",
   "execution_count": null,
   "metadata": {},
   "outputs": [],
   "source": [
    "fn=  'keywords_set.xlsx'\n",
    "df_keywords = pd.read_excel(fn, skiprows=11)  \n",
    "all_keywords= df_keywords['Keyword'].values\n",
    "\n",
    "keywords= list(np.random.choice(all_keywords,50))\n",
    "\n",
    "print ('len(keywords)= {:,}\\n'.format(len(keywords)))\n",
    "print (keywords)"
   ]
  },
  {
   "cell_type": "markdown",
   "metadata": {},
   "source": [
    "<font color = green >\n",
    "\n",
    "### Compute condensed matrix \n",
    "\n",
    "</font>"
   ]
  },
  {
   "cell_type": "code",
   "execution_count": null,
   "metadata": {},
   "outputs": [],
   "source": [
    "stop_words = set(stopwords.words('english'))\n",
    "memoized_words_similarity= {}\n",
    "memoized_synsets_similarities= {}\n",
    "memoized_synsets = {}\n",
    "\n",
    "# print ('\\n= Calculating distance matrix =')\n",
    "\n",
    "condensed_matrix= calc_condensed_matrix_keywords(keywords)\n"
   ]
  },
  {
   "cell_type": "markdown",
   "metadata": {},
   "source": [
    "<font color = green >\n",
    "\n",
    "### Run clustering\n",
    "\n",
    "</font>"
   ]
  },
  {
   "cell_type": "code",
   "execution_count": null,
   "metadata": {},
   "outputs": [],
   "source": [
    "similarity_threshold= 0.8\n",
    "print ('similarity_threshold = {}%'.format(similarity_threshold*100))\n",
    "\n",
    "distance_threshold = convert_siliratity_to_distance(similarity_threshold)\n",
    "resulted_clusters={i: ([i], keywords[i]) for i in range(len(keywords))} # every cluster is label/int: ([]/list, main_keyword/str))\n",
    "linkage_matrix = complete(condensed_matrix) # this represents the max distance measure  - consider the fareest in the cluster\n",
    "\n",
    "continue_clustering= True\n",
    "step_number = 0\n",
    "while continue_clustering:\n",
    "    clusters_to_merge = (linkage_matrix[step_number,0],linkage_matrix[step_number,1])\n",
    "    excpected_total =  linkage_matrix[step_number,3]\n",
    "    next_distance = linkage_matrix[step_number,2]\n",
    "    new_label = step_number + len(keywords)\n",
    "\n",
    "    if next_distance < distance_threshold :\n",
    "        resulted_clusters= merge_clusters(resulted_clusters, clusters_to_merge, new_label, excpected_total)\n",
    "        step_number +=1\n",
    "        if step_number>=len(linkage_matrix):\n",
    "            continue_clustering = False\n",
    "    else:\n",
    "        continue_clustering= False\n",
    "\n",
    "    \n",
    "        "
   ]
  },
  {
   "cell_type": "markdown",
   "metadata": {},
   "source": [
    "<font color = green >\n",
    "\n",
    "### Review results \n",
    "\n",
    "</font>"
   ]
  },
  {
   "cell_type": "code",
   "execution_count": null,
   "metadata": {},
   "outputs": [],
   "source": [
    "outliers= [label for label in resulted_clusters if len(resulted_clusters[label][0])==1]\n",
    "print ('Clusters number: {:,}'.format(len(resulted_clusters)-len(outliers)))\n",
    "print ('Outliers number: {:,}'.format(len(outliers)))\n",
    "\n",
    "\n",
    "# print members\n",
    "for label in resulted_clusters:\n",
    "    cluster_suggested_name= resulted_clusters[label][1]\n",
    "    cluster_suggested_name = ' '.join(remove_stop_words(word_tokenize(cluster_suggested_name)))\n",
    "\n",
    "    cluster_members= list(keywords[resulted_clusters[label][0]])\n",
    "    if len(cluster_members)==1:\n",
    "        print ('[keyword] {}'.format(cluster_suggested_name))\n",
    "    else:\n",
    "        print('[cluster] \"name: {}\" / {:,} keywords / tags: {}'.format(cluster_suggested_name, len(cluster_members), get_frequent_words(cluster_members)))\n",
    "        print ('\\t{}\\n'.format(cluster_members))    "
   ]
  },
  {
   "cell_type": "markdown",
   "metadata": {},
   "source": [
    "<font color = green >\n",
    "\n",
    "## DBSCAN (density-based spatial clustering of applications with noise)\n",
    "\n",
    "</font>\n",
    "<br>\n",
    "<br>\n",
    "<img src = \"dbscan.png\"  align = 'left'>\n",
    "\n",
    "$\\quad$Point is core sample if there are **min_sample** of other data points \n",
    "<br>$\\quad\\quad$within a distance of **eps**.\n",
    "<br>$\\quad$All core samples and units in a distance of eps apart are put into the same cluster.\n",
    "<br>$\\quad$Other units are considered as noise.\n"
   ]
  },
  {
   "cell_type": "code",
   "execution_count": null,
   "metadata": {},
   "outputs": [],
   "source": [
    "from sklearn.cluster import DBSCAN\n",
    "\n",
    "from sklearn.datasets import make_blobs\n",
    "import matplotlib.pyplot as plt"
   ]
  },
  {
   "cell_type": "markdown",
   "metadata": {},
   "source": [
    "<font color = green >\n",
    "\n",
    "### Sample 1: dbscan for make_blobs\n",
    "\n",
    "</font>"
   ]
  },
  {
   "cell_type": "code",
   "execution_count": null,
   "metadata": {
    "scrolled": false
   },
   "outputs": [],
   "source": [
    "points,_ = make_blobs(n_samples = 400, n_features = 2, centers = 8,cluster_std = 2, random_state = 4)\n",
    "plt.figure(figsize=(6,6))\n",
    "plt.scatter(points[:,0], points[:,1], s=40, edgecolor = 'black', label='negative', alpha = 0.7)\n"
   ]
  },
  {
   "cell_type": "code",
   "execution_count": null,
   "metadata": {},
   "outputs": [],
   "source": [
    "def apply_db_scan(points, eps):\n",
    "    dbscan = DBSCAN(eps=eps, min_samples=2, ).fit(points) # default eps=0.5, min_samples=5\n",
    "    # dbscan = DBSCAN(min_samples=6).fit(points)\n",
    "    predicted = dbscan.labels_\n",
    "    n_clusters_and_noice = len(np.unique(predicted))-1\n",
    "    print ('n_clusters_and_noice ={}\\n'.format(n_clusters_and_noice))\n",
    "\n",
    "    predicted[np.where(predicted == -1)] = n_clusters_and_noice\n",
    "    return predicted \n",
    "\n",
    "predicted  =  apply_db_scan(points, eps=1.6) #  1.6 (5) # 1.7(3) # 1.65 (4but...) # 1.5 (8 looks good)\n",
    "print (predicted)\n",
    "\n",
    "\n"
   ]
  },
  {
   "cell_type": "code",
   "execution_count": null,
   "metadata": {},
   "outputs": [],
   "source": [
    "plt.figure(figsize=(6,6))\n",
    "colors=  np.array(['green','grey', 'orange', 'brown', 'blue', 'yellow'])\n",
    "colors= np.r_[colors, np.array(['black']*100)]\n",
    "\n",
    "plt.scatter(points[:,0], points[:,1], c= colors[predicted], s= 40, edgecolor = 'black', label='negative', alpha = 0.7)    \n",
    "\n"
   ]
  },
  {
   "cell_type": "markdown",
   "metadata": {},
   "source": [
    "<font color = green >\n",
    "\n",
    "### Sample 2: dbscan for smile shaped data\n",
    "\n",
    "</font>"
   ]
  },
  {
   "cell_type": "code",
   "execution_count": null,
   "metadata": {},
   "outputs": [],
   "source": [
    "points = get_smile_points()\n",
    "_, ((ax1, ax2), (ax3, ax4)) = plt.subplots(2, 2)\n",
    "axes = (ax1, ax2, ax3, ax4)\n",
    " \n",
    "for i, eps in enumerate([0.1, 0.26, 0.3, 1.4]):    \n",
    "    predicted  =  apply_db_scan(points, eps=eps)\n",
    "\n",
    "    colors=  np.array(['green','grey', 'orange', 'brown', 'blue', 'yellow'])\n",
    "    colors= np.r_[colors, np.array(['black']*100)]\n",
    "    axes[i].scatter(points[:,0], points[:,1], c= colors[predicted], s= 5)    \n",
    "\n",
    "plt.tight_layout()"
   ]
  },
  {
   "cell_type": "markdown",
   "metadata": {},
   "source": [
    "<font color = green >\n",
    "\n",
    "### Sample 3: more params of dbscan \n",
    "\n",
    "</font>"
   ]
  },
  {
   "cell_type": "code",
   "execution_count": null,
   "metadata": {},
   "outputs": [],
   "source": [
    "\n",
    "\n",
    "from sklearn import metrics\n",
    "from sklearn.preprocessing import StandardScaler\n",
    "\n",
    "\n",
    "plt.figure()\n",
    "\n",
    "# Generate sample data\n",
    "centers = [[1, 1], [-1, -1], [1, -1]]\n",
    "X, _ = make_blobs(n_samples=750, centers=centers, cluster_std=0.4,\n",
    "                            random_state=0)\n",
    "\n",
    "X = StandardScaler().fit_transform(X)\n",
    "\n",
    "# Compute DBSCAN\n",
    "db = DBSCAN(eps=0.3, min_samples=10).fit(X)\n",
    "core_samples_mask = np.zeros_like(db.labels_, dtype=bool)\n",
    "core_samples_mask[db.core_sample_indices_] = True\n",
    "labels = db.labels_\n",
    "\n",
    "# Number of clusters in labels, ignoring noise if present.\n",
    "n_clusters_ = len(set(labels)) - (1 if -1 in labels else 0)\n",
    "n_noise_ = list(labels).count(-1)\n",
    "\n",
    "print('Estimated number of clusters: %d' % n_clusters_)\n",
    "print('Estimated number of noise points: %d' % n_noise_)\n",
    "\n",
    "\n",
    "# Plot result\n",
    "\n",
    "# Black removed and is used for noise instead.\n",
    "unique_labels = set(labels)\n",
    "colors = [plt.cm.Spectral(each)\n",
    "          for each in np.linspace(0, 1, len(unique_labels))]\n",
    "for k, col in zip(unique_labels, colors):\n",
    "    if k == -1:\n",
    "        # Black used for noise.\n",
    "        col = [0, 0, 0, 1]\n",
    "\n",
    "    class_member_mask = (labels == k)\n",
    "\n",
    "    xy = X[class_member_mask & core_samples_mask]\n",
    "    plt.plot(xy[:, 0], xy[:, 1], 'o', markerfacecolor=tuple(col),\n",
    "             markeredgecolor='k', markersize=14)\n",
    "\n",
    "    xy = X[class_member_mask & ~core_samples_mask]\n",
    "    plt.plot(xy[:, 0], xy[:, 1], 'o', markerfacecolor=tuple(col),\n",
    "             markeredgecolor='k', markersize=6)\n",
    "\n",
    "plt.title('Estimated number of clusters: %d' % n_clusters_)"
   ]
  },
  {
   "cell_type": "markdown",
   "metadata": {},
   "source": [
    "<font color = green >\n",
    "\n",
    "## Home Task\n",
    "\n",
    "</font>\n",
    "\n",
    "Apply various clustering algorithms \n",
    "\n",
    "- Agglomerative clustering using `complete` linkage \n",
    "- Agglomerative clustering using `single` linkage \n",
    "- DBSCAN\n",
    "- Use albow methiod to determine the best k for Kmeans\n"
   ]
  },
  {
   "cell_type": "markdown",
   "metadata": {},
   "source": [
    "<font color = green >\n",
    "\n",
    "###  Data \n",
    "\n",
    "</font>\n",
    "\n"
   ]
  },
  {
   "cell_type": "code",
   "execution_count": 1,
   "metadata": {},
   "outputs": [],
   "source": [
    "from sklearn.datasets import make_blobs\n",
    "# %matplotlib notebook"
   ]
  },
  {
   "cell_type": "code",
   "execution_count": 12,
   "metadata": {},
   "outputs": [
    {
     "ename": "NameError",
     "evalue": "name 'plt' is not defined",
     "output_type": "error",
     "traceback": [
      "\u001b[0;31m---------------------------------------------------------------------------\u001b[0m",
      "\u001b[0;31mNameError\u001b[0m                                 Traceback (most recent call last)",
      "Input \u001b[0;32mIn [12]\u001b[0m, in \u001b[0;36m<cell line: 3>\u001b[0;34m()\u001b[0m\n\u001b[1;32m      1\u001b[0m X, y \u001b[38;5;241m=\u001b[39m make_blobs(n_samples \u001b[38;5;241m=\u001b[39m \u001b[38;5;241m500\u001b[39m, n_features \u001b[38;5;241m=\u001b[39m \u001b[38;5;241m2\u001b[39m, centers \u001b[38;5;241m=\u001b[39m \u001b[38;5;241m5\u001b[39m, \n\u001b[1;32m      2\u001b[0m                            cluster_std \u001b[38;5;241m=\u001b[39m \u001b[38;5;241m0.6\u001b[39m, random_state \u001b[38;5;241m=\u001b[39m \u001b[38;5;241m0\u001b[39m)\n\u001b[0;32m----> 3\u001b[0m colors \u001b[38;5;241m=\u001b[39m np\u001b[38;5;241m.\u001b[39marray([plt\u001b[38;5;241m.\u001b[39mcm\u001b[38;5;241m.\u001b[39mSpectral(val)\n\u001b[1;32m      4\u001b[0m           \u001b[38;5;28;01mfor\u001b[39;00m val \u001b[38;5;129;01min\u001b[39;00m np\u001b[38;5;241m.\u001b[39mlinspace(\u001b[38;5;241m0\u001b[39m, \u001b[38;5;241m1\u001b[39m, \u001b[38;5;28mlen\u001b[39m(\u001b[38;5;28mset\u001b[39m(y)))])\n\u001b[1;32m      6\u001b[0m points \u001b[38;5;241m=\u001b[39m X\n\u001b[1;32m      7\u001b[0m plt\u001b[38;5;241m.\u001b[39mfigure(figsize\u001b[38;5;241m=\u001b[39m(\u001b[38;5;241m8\u001b[39m,\u001b[38;5;241m6\u001b[39m))\n",
      "Input \u001b[0;32mIn [12]\u001b[0m, in \u001b[0;36m<listcomp>\u001b[0;34m(.0)\u001b[0m\n\u001b[1;32m      1\u001b[0m X, y \u001b[38;5;241m=\u001b[39m make_blobs(n_samples \u001b[38;5;241m=\u001b[39m \u001b[38;5;241m500\u001b[39m, n_features \u001b[38;5;241m=\u001b[39m \u001b[38;5;241m2\u001b[39m, centers \u001b[38;5;241m=\u001b[39m \u001b[38;5;241m5\u001b[39m, \n\u001b[1;32m      2\u001b[0m                            cluster_std \u001b[38;5;241m=\u001b[39m \u001b[38;5;241m0.6\u001b[39m, random_state \u001b[38;5;241m=\u001b[39m \u001b[38;5;241m0\u001b[39m)\n\u001b[0;32m----> 3\u001b[0m colors \u001b[38;5;241m=\u001b[39m np\u001b[38;5;241m.\u001b[39marray([\u001b[43mplt\u001b[49m\u001b[38;5;241m.\u001b[39mcm\u001b[38;5;241m.\u001b[39mSpectral(val)\n\u001b[1;32m      4\u001b[0m           \u001b[38;5;28;01mfor\u001b[39;00m val \u001b[38;5;129;01min\u001b[39;00m np\u001b[38;5;241m.\u001b[39mlinspace(\u001b[38;5;241m0\u001b[39m, \u001b[38;5;241m1\u001b[39m, \u001b[38;5;28mlen\u001b[39m(\u001b[38;5;28mset\u001b[39m(y)))])\n\u001b[1;32m      6\u001b[0m points \u001b[38;5;241m=\u001b[39m X\n\u001b[1;32m      7\u001b[0m plt\u001b[38;5;241m.\u001b[39mfigure(figsize\u001b[38;5;241m=\u001b[39m(\u001b[38;5;241m8\u001b[39m,\u001b[38;5;241m6\u001b[39m))\n",
      "\u001b[0;31mNameError\u001b[0m: name 'plt' is not defined"
     ]
    }
   ],
   "source": [
    "X, y = make_blobs(n_samples = 500, n_features = 2, centers = 5, \n",
    "                           cluster_std = 0.6, random_state = 0)\n",
    "colors = np.array([plt.cm.Spectral(val)\n",
    "          for val in np.linspace(0, 1, len(set(y)))])\n",
    "\n",
    "points = X\n",
    "plt.figure(figsize=(8,6))\n",
    "\n",
    "plt.scatter(points[:,0], points[:,1], c= colors[y], s= 20)    "
   ]
  },
  {
   "cell_type": "code",
   "execution_count": 3,
   "metadata": {},
   "outputs": [],
   "source": [
    "from sklearn.cluster import AgglomerativeClustering\n",
    "import numpy as np"
   ]
  },
  {
   "cell_type": "code",
   "execution_count": 4,
   "metadata": {
    "scrolled": false
   },
   "outputs": [
    {
     "ename": "NameError",
     "evalue": "name 'points' is not defined",
     "output_type": "error",
     "traceback": [
      "\u001b[0;31m---------------------------------------------------------------------------\u001b[0m",
      "\u001b[0;31mNameError\u001b[0m                                 Traceback (most recent call last)",
      "Input \u001b[0;32mIn [4]\u001b[0m, in \u001b[0;36m<cell line: 5>\u001b[0;34m()\u001b[0m\n\u001b[1;32m      3\u001b[0m pyplot\u001b[38;5;241m.\u001b[39mfigure(figsize\u001b[38;5;241m=\u001b[39m(\u001b[38;5;241m9\u001b[39m, \u001b[38;5;241m4\u001b[39m))  \n\u001b[1;32m      4\u001b[0m pyplot\u001b[38;5;241m.\u001b[39mtitle(\u001b[38;5;124m\"\u001b[39m\u001b[38;5;124mDendrograms\u001b[39m\u001b[38;5;124m\"\u001b[39m)  \n\u001b[0;32m----> 5\u001b[0m dend \u001b[38;5;241m=\u001b[39m shc\u001b[38;5;241m.\u001b[39mdendrogram(shc\u001b[38;5;241m.\u001b[39mlinkage(\u001b[43mpoints\u001b[49m, method\u001b[38;5;241m=\u001b[39m\u001b[38;5;124m'\u001b[39m\u001b[38;5;124mcomplete\u001b[39m\u001b[38;5;124m'\u001b[39m))\n",
      "\u001b[0;31mNameError\u001b[0m: name 'points' is not defined"
     ]
    },
    {
     "data": {
      "image/png": "[encoded data removed]",
      "text/plain": [
       "<Figure size 900x400 with 1 Axes>"
      ]
     },
     "metadata": {},
     "output_type": "display_data"
    }
   ],
   "source": [
    "import scipy.cluster.hierarchy as shc\n",
    "from matplotlib import pyplot\n",
    "pyplot.figure(figsize=(9, 4))  \n",
    "pyplot.title(\"Dendrograms\")  \n",
    "dend = shc.dendrogram(shc.linkage(points, method='complete'))"
   ]
  },
  {
   "cell_type": "code",
   "execution_count": null,
   "metadata": {},
   "outputs": [],
   "source": [
    "link_complete = AgglomerativeClustering(n_clusters=5, linkage='complete')\n",
    "model = link_complete.fit(points)\n",
    "print('Number of clusters for agglomerative clustering complete linkage:', link_complete.n_clusters)\n",
    "predicted = link_complete.fit_predict(points)"
   ]
  },
  {
   "cell_type": "code",
   "execution_count": 5,
   "metadata": {
    "scrolled": false
   },
   "outputs": [
    {
     "ename": "NameError",
     "evalue": "name 'plt' is not defined",
     "output_type": "error",
     "traceback": [
      "\u001b[0;31m---------------------------------------------------------------------------\u001b[0m",
      "\u001b[0;31mNameError\u001b[0m                                 Traceback (most recent call last)",
      "Input \u001b[0;32mIn [5]\u001b[0m, in \u001b[0;36m<cell line: 2>\u001b[0;34m()\u001b[0m\n\u001b[1;32m      1\u001b[0m colors\u001b[38;5;241m=\u001b[39m  np\u001b[38;5;241m.\u001b[39marray([\u001b[38;5;124m'\u001b[39m\u001b[38;5;124mgreen\u001b[39m\u001b[38;5;124m'\u001b[39m,\u001b[38;5;124m'\u001b[39m\u001b[38;5;124mgrey\u001b[39m\u001b[38;5;124m'\u001b[39m, \u001b[38;5;124m'\u001b[39m\u001b[38;5;124morange\u001b[39m\u001b[38;5;124m'\u001b[39m, \u001b[38;5;124m'\u001b[39m\u001b[38;5;124mbrown\u001b[39m\u001b[38;5;124m'\u001b[39m, \u001b[38;5;124m'\u001b[39m\u001b[38;5;124mblue\u001b[39m\u001b[38;5;124m'\u001b[39m, \u001b[38;5;124m'\u001b[39m\u001b[38;5;124myellow\u001b[39m\u001b[38;5;124m'\u001b[39m, \u001b[38;5;124m'\u001b[39m\u001b[38;5;124mpink\u001b[39m\u001b[38;5;124m'\u001b[39m])\n\u001b[0;32m----> 2\u001b[0m \u001b[43mplt\u001b[49m\u001b[38;5;241m.\u001b[39mfigure(figsize\u001b[38;5;241m=\u001b[39m(\u001b[38;5;241m8\u001b[39m,\u001b[38;5;241m6\u001b[39m))\n\u001b[1;32m      3\u001b[0m plt\u001b[38;5;241m.\u001b[39mscatter(points[:,\u001b[38;5;241m0\u001b[39m], points[:,\u001b[38;5;241m1\u001b[39m], c\u001b[38;5;241m=\u001b[39m colors[predicted], marker\u001b[38;5;241m=\u001b[39m \u001b[38;5;124m'\u001b[39m\u001b[38;5;124m.\u001b[39m\u001b[38;5;124m'\u001b[39m)    \n\u001b[1;32m      4\u001b[0m plt\u001b[38;5;241m.\u001b[39mtitle(\u001b[38;5;124m'\u001b[39m\u001b[38;5;124mAgglomerative clustering complete linkage\u001b[39m\u001b[38;5;124m'\u001b[39m)\n",
      "\u001b[0;31mNameError\u001b[0m: name 'plt' is not defined"
     ]
    }
   ],
   "source": [
    "colors=  np.array(['green','grey', 'orange', 'brown', 'blue', 'yellow', 'pink'])\n",
    "plt.figure(figsize=(8,6))\n",
    "plt.scatter(points[:,0], points[:,1], c= colors[predicted], marker= '.')    \n",
    "plt.title('Agglomerative clustering complete linkage')"
   ]
  },
  {
   "cell_type": "code",
   "execution_count": 14,
   "metadata": {},
   "outputs": [
    {
     "ename": "NameError",
     "evalue": "name 'points' is not defined",
     "output_type": "error",
     "traceback": [
      "\u001b[0;31m---------------------------------------------------------------------------\u001b[0m",
      "\u001b[0;31mNameError\u001b[0m                                 Traceback (most recent call last)",
      "Input \u001b[0;32mIn [14]\u001b[0m, in \u001b[0;36m<cell line: 3>\u001b[0;34m()\u001b[0m\n\u001b[1;32m      1\u001b[0m plt\u001b[38;5;241m.\u001b[39mfigure(figsize\u001b[38;5;241m=\u001b[39m(\u001b[38;5;241m10\u001b[39m, \u001b[38;5;241m8\u001b[39m))  \n\u001b[1;32m      2\u001b[0m plt\u001b[38;5;241m.\u001b[39mtitle(\u001b[38;5;124m\"\u001b[39m\u001b[38;5;124mDendrograms\u001b[39m\u001b[38;5;124m\"\u001b[39m)  \n\u001b[0;32m----> 3\u001b[0m dend \u001b[38;5;241m=\u001b[39m shc\u001b[38;5;241m.\u001b[39mdendrogram(shc\u001b[38;5;241m.\u001b[39mlinkage(\u001b[43mpoints\u001b[49m, method\u001b[38;5;241m=\u001b[39m\u001b[38;5;124m'\u001b[39m\u001b[38;5;124msingle\u001b[39m\u001b[38;5;124m'\u001b[39m))\n",
      "\u001b[0;31mNameError\u001b[0m: name 'points' is not defined"
     ]
    },
    {
     "data": {
      "image/png": "[encoded data removed]",
      "text/plain": [
       "<Figure size 1000x800 with 1 Axes>"
      ]
     },
     "metadata": {},
     "output_type": "display_data"
    }
   ],
   "source": [
    "plt.figure(figsize=(10, 8))  \n",
    "plt.title(\"Dendrograms\")  \n",
    "dend = shc.dendrogram(shc.linkage(points, method='single'))"
   ]
  },
  {
   "cell_type": "code",
   "execution_count": 7,
   "metadata": {},
   "outputs": [
    {
     "name": "stdout",
     "output_type": "stream",
     "text": [
      "Number of clusters for agglomerative clustering single linkage: 4\n"
     ]
    },
    {
     "ename": "NameError",
     "evalue": "name 'points' is not defined",
     "output_type": "error",
     "traceback": [
      "\u001b[0;31m---------------------------------------------------------------------------\u001b[0m",
      "\u001b[0;31mNameError\u001b[0m                                 Traceback (most recent call last)",
      "Input \u001b[0;32mIn [7]\u001b[0m, in \u001b[0;36m<cell line: 3>\u001b[0;34m()\u001b[0m\n\u001b[1;32m      1\u001b[0m link_single \u001b[38;5;241m=\u001b[39m AgglomerativeClustering(n_clusters\u001b[38;5;241m=\u001b[39m\u001b[38;5;241m4\u001b[39m, linkage\u001b[38;5;241m=\u001b[39m\u001b[38;5;124m'\u001b[39m\u001b[38;5;124msingle\u001b[39m\u001b[38;5;124m'\u001b[39m)\n\u001b[1;32m      2\u001b[0m \u001b[38;5;28mprint\u001b[39m(\u001b[38;5;124m'\u001b[39m\u001b[38;5;124mNumber of clusters for agglomerative clustering single linkage:\u001b[39m\u001b[38;5;124m'\u001b[39m, link_single\u001b[38;5;241m.\u001b[39mn_clusters)\n\u001b[0;32m----> 3\u001b[0m predicted \u001b[38;5;241m=\u001b[39m link_single\u001b[38;5;241m.\u001b[39mfit_predict(\u001b[43mpoints\u001b[49m)\n",
      "\u001b[0;31mNameError\u001b[0m: name 'points' is not defined"
     ]
    }
   ],
   "source": [
    "link_single = AgglomerativeClustering(n_clusters=4, linkage='single')\n",
    "print('Number of clusters for agglomerative clustering single linkage:', link_single.n_clusters)\n",
    "predicted = link_single.fit_predict(points)"
   ]
  },
  {
   "cell_type": "code",
   "execution_count": 8,
   "metadata": {
    "scrolled": false
   },
   "outputs": [
    {
     "ename": "NameError",
     "evalue": "name 'plt' is not defined",
     "output_type": "error",
     "traceback": [
      "\u001b[0;31m---------------------------------------------------------------------------\u001b[0m",
      "\u001b[0;31mNameError\u001b[0m                                 Traceback (most recent call last)",
      "Input \u001b[0;32mIn [8]\u001b[0m, in \u001b[0;36m<cell line: 1>\u001b[0;34m()\u001b[0m\n\u001b[0;32m----> 1\u001b[0m \u001b[43mplt\u001b[49m\u001b[38;5;241m.\u001b[39mfigure(figsize\u001b[38;5;241m=\u001b[39m(\u001b[38;5;241m6\u001b[39m,\u001b[38;5;241m6\u001b[39m))\n\u001b[1;32m      2\u001b[0m plt\u001b[38;5;241m.\u001b[39mscatter(points[:,\u001b[38;5;241m0\u001b[39m], points[:,\u001b[38;5;241m1\u001b[39m], c\u001b[38;5;241m=\u001b[39m colors[predicted], marker\u001b[38;5;241m=\u001b[39m \u001b[38;5;124m'\u001b[39m\u001b[38;5;124m.\u001b[39m\u001b[38;5;124m'\u001b[39m)    \n\u001b[1;32m      3\u001b[0m plt\u001b[38;5;241m.\u001b[39mtitle (\u001b[38;5;124m'\u001b[39m\u001b[38;5;124mAgglomerative clustering single linkage\u001b[39m\u001b[38;5;124m'\u001b[39m)\n",
      "\u001b[0;31mNameError\u001b[0m: name 'plt' is not defined"
     ]
    }
   ],
   "source": [
    "plt.figure(figsize=(6,6))\n",
    "plt.scatter(points[:,0], points[:,1], c= colors[predicted], marker= '.')    \n",
    "plt.title ('Agglomerative clustering single linkage')"
   ]
  },
  {
   "cell_type": "code",
   "execution_count": 9,
   "metadata": {
    "scrolled": false
   },
   "outputs": [
    {
     "ename": "NameError",
     "evalue": "name 'plt' is not defined",
     "output_type": "error",
     "traceback": [
      "\u001b[0;31m---------------------------------------------------------------------------\u001b[0m",
      "\u001b[0;31mNameError\u001b[0m                                 Traceback (most recent call last)",
      "Input \u001b[0;32mIn [9]\u001b[0m, in \u001b[0;36m<cell line: 2>\u001b[0;34m()\u001b[0m\n\u001b[1;32m      1\u001b[0m \u001b[38;5;28;01mfrom\u001b[39;00m \u001b[38;5;21;01msklearn\u001b[39;00m\u001b[38;5;21;01m.\u001b[39;00m\u001b[38;5;21;01mcluster\u001b[39;00m \u001b[38;5;28;01mimport\u001b[39;00m DBSCAN\n\u001b[0;32m----> 2\u001b[0m _, ((ax1, ax2), (ax3, ax4)) \u001b[38;5;241m=\u001b[39m \u001b[43mplt\u001b[49m\u001b[38;5;241m.\u001b[39msubplots(\u001b[38;5;241m2\u001b[39m, \u001b[38;5;241m2\u001b[39m)\n\u001b[1;32m      3\u001b[0m axes \u001b[38;5;241m=\u001b[39m (ax1, ax2, ax3, ax4)\n\u001b[1;32m      4\u001b[0m \u001b[38;5;28;01mfor\u001b[39;00m i, eps \u001b[38;5;129;01min\u001b[39;00m \u001b[38;5;28menumerate\u001b[39m([\u001b[38;5;241m0.16\u001b[39m, \u001b[38;5;241m0.27\u001b[39m, \u001b[38;5;241m0.5\u001b[39m, \u001b[38;5;241m1.8\u001b[39m]):    \n\u001b[1;32m      5\u001b[0m \u001b[38;5;66;03m#     predicted  =  apply_db_scan(points, eps=eps)\u001b[39;00m\n",
      "\u001b[0;31mNameError\u001b[0m: name 'plt' is not defined"
     ]
    }
   ],
   "source": [
    "from sklearn.cluster import DBSCAN\n",
    "_, ((ax1, ax2), (ax3, ax4)) = plt.subplots(2, 2)\n",
    "axes = (ax1, ax2, ax3, ax4)\n",
    "for i, eps in enumerate([0.16, 0.27, 0.5, 1.8]):    \n",
    "#     predicted  =  apply_db_scan(points, eps=eps)\n",
    "    \n",
    "    dbscan = DBSCAN(eps=eps, min_samples=5, ).fit(points) # default eps=0.5, min_samples=5\n",
    "    # dbscan = DBSCAN(min_samples=6).fit(points)\n",
    "    predicted = dbscan.labels_\n",
    "    n_clusters_and_noice = len(np.unique(predicted))-1\n",
    "    print ('n_clusters_and_noice ={}\\n'.format(n_clusters_and_noice))\n",
    "\n",
    "    predicted[np.where(predicted == -1)] = n_clusters_and_noice\n",
    "\n",
    "    colors=  np.array(['green','grey', 'orange', 'brown', 'blue', 'yellow'])\n",
    "    colors= np.r_[colors, np.array(['black']*100)]\n",
    "    axes[i].scatter(points[:,0], points[:,1], c= colors[predicted], s= 5)    \n",
    "\n",
    "plt.tight_layout()"
   ]
  },
  {
   "cell_type": "code",
   "execution_count": 10,
   "metadata": {
    "scrolled": false
   },
   "outputs": [
    {
     "ename": "NameError",
     "evalue": "name 'points' is not defined",
     "output_type": "error",
     "traceback": [
      "\u001b[0;31m---------------------------------------------------------------------------\u001b[0m",
      "\u001b[0;31mNameError\u001b[0m                                 Traceback (most recent call last)",
      "Input \u001b[0;32mIn [10]\u001b[0m, in \u001b[0;36m<cell line: 4>\u001b[0;34m()\u001b[0m\n\u001b[1;32m      4\u001b[0m \u001b[38;5;28;01mfor\u001b[39;00m num_clusters \u001b[38;5;129;01min\u001b[39;00m K:\n\u001b[1;32m      5\u001b[0m     clf \u001b[38;5;241m=\u001b[39m KMeans(n_clusters\u001b[38;5;241m=\u001b[39mnum_clusters)\n\u001b[0;32m----> 6\u001b[0m     clf\u001b[38;5;241m.\u001b[39mfit(\u001b[43mpoints\u001b[49m)\n\u001b[1;32m      7\u001b[0m     J\u001b[38;5;241m.\u001b[39mappend(clf\u001b[38;5;241m.\u001b[39minertia_)\n\u001b[1;32m      8\u001b[0m     predicted\u001b[38;5;241m=\u001b[39m clf\u001b[38;5;241m.\u001b[39mpredict(points)\n",
      "\u001b[0;31mNameError\u001b[0m: name 'points' is not defined"
     ]
    }
   ],
   "source": [
    "from sklearn.cluster import KMeans\n",
    "J = []\n",
    "K = range(1,11)\n",
    "for num_clusters in K:\n",
    "    clf = KMeans(n_clusters=num_clusters)\n",
    "    clf.fit(points)\n",
    "    J.append(clf.inertia_)\n",
    "    predicted= clf.predict(points)\n",
    "    centroids = clf.cluster_centers_\n",
    "    x1, x2 = np.array(list((zip(*points))))\n",
    "    colors = np.array(['green','orange','grey', 'brown', 'pink', 'blue', 'yellow', 'red', 'indigo', 'black'])\n",
    "\n",
    "plt.figure(figsize= (5,5))\n",
    "plt.plot(K,J,'o-')\n",
    "plt.xlabel('Iterations (K)') \n",
    "plt.ylabel('Cost function J')\n",
    "plt.show()"
   ]
  },
  {
   "cell_type": "code",
   "execution_count": 11,
   "metadata": {},
   "outputs": [
    {
     "ename": "NameError",
     "evalue": "name 'points' is not defined",
     "output_type": "error",
     "traceback": [
      "\u001b[0;31m---------------------------------------------------------------------------\u001b[0m",
      "\u001b[0;31mNameError\u001b[0m                                 Traceback (most recent call last)",
      "Input \u001b[0;32mIn [11]\u001b[0m, in \u001b[0;36m<cell line: 2>\u001b[0;34m()\u001b[0m\n\u001b[1;32m      1\u001b[0m clf \u001b[38;5;241m=\u001b[39m KMeans(n_clusters\u001b[38;5;241m=\u001b[39m\u001b[38;5;241m3\u001b[39m, n_init \u001b[38;5;241m=\u001b[39m \u001b[38;5;241m10\u001b[39m)\n\u001b[0;32m----> 2\u001b[0m clf\u001b[38;5;241m.\u001b[39mfit(\u001b[43mpoints\u001b[49m)\n\u001b[1;32m      3\u001b[0m predicted\u001b[38;5;241m=\u001b[39m clf\u001b[38;5;241m.\u001b[39mpredict(points)\n\u001b[1;32m      4\u001b[0m centroids \u001b[38;5;241m=\u001b[39m clf\u001b[38;5;241m.\u001b[39mcluster_centers_\n",
      "\u001b[0;31mNameError\u001b[0m: name 'points' is not defined"
     ]
    }
   ],
   "source": [
    "clf = KMeans(n_clusters=3, n_init = 10)\n",
    "clf.fit(points)\n",
    "predicted= clf.predict(points)\n",
    "centroids = clf.cluster_centers_\n",
    "x1, x2 = np.array(list((zip(*points))))\n",
    "plt.figure(figsize=(6,6))\n",
    "\n",
    "plt.scatter(x1,x2, c= colors[predicted])\n",
    "\n",
    "for i, c in enumerate (clf.cluster_centers_):    \n",
    "    plt.plot(c[0], c[1], marker = 'x', color= colors[i], markersize=14) \n",
    "    \n",
    "plt.title('sklearn kmeans')"
   ]
  },
  {
   "cell_type": "markdown",
   "metadata": {},
   "source": [
    "<font color = green >\n",
    "\n",
    "## Learn more\n",
    "</font>\n",
    "\n",
    "[sklearn.cluster.AgglomerativeClustering](https://scikit-learn.org/stable/modules/generated/sklearn.cluster.AgglomerativeClustering.html)\n",
    "\n",
    "[Hierarchical clustering (scipy.cluster.hierarchy)](https://docs.scipy.org/doc/scipy-0.9.0/reference/cluster.hierarchy.html)\n",
    "\n",
    "[Demo of DBSCAN clustering algorithm](https://scikit-learn.org/stable/auto_examples/cluster/plot_dbscan.html)\n"
   ]
  },
  {
   "cell_type": "code",
   "execution_count": null,
   "metadata": {},
   "outputs": [],
   "source": [
    "\n",
    "\n"
   ]
  },
  {
   "cell_type": "code",
   "execution_count": null,
   "metadata": {},
   "outputs": [],
   "source": []
  }
 ],
 "metadata": {
  "kernelspec": {
   "display_name": "Python 3 (ipykernel)",
   "language": "python",
   "name": "python3"
  },
  "language_info": {
   "codemirror_mode": {
    "name": "ipython",
    "version": 3
   },
   "file_extension": ".py",
   "mimetype": "text/x-python",
   "name": "python",
   "nbconvert_exporter": "python",
   "pygments_lexer": "ipython3",
   "version": "3.9.13"
  }
 },
 "nbformat": 4,
 "nbformat_minor": 2
}
