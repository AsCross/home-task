{
 "cells": [
  {
   "cell_type": "code",
   "execution_count": 32,
   "id": "b34a700b",
   "metadata": {},
   "outputs": [
    {
     "name": "stdout",
     "output_type": "stream",
     "text": [
      "323542\n",
      "3.140006552472322\n"
     ]
    }
   ],
   "source": [
    "#import random as rm\n",
    "import random as rd\n",
    "# k = 0\n",
    "# t = int(input())\n",
    "# for i in range(t):\n",
    "#     x = rd.random()\n",
    "#     y = rd.random()\n",
    "#     k += (x**2+y**2)<1\n",
    "# print(k*4/t)\n",
    "\n",
    "r = 5\n",
    "n = int(input())\n",
    "k = 0\n",
    "\n",
    "for i in range(n):\n",
    "    x = -r + rd.random()*2*r\n",
    "    y = -r + rd.random()*2*r\n",
    "#     if x*x + y*y < r*r:\n",
    "    k += (x**2+y**2)<r*r\n",
    "        \n",
    "print(k*4/n)"
   ]
  }
 ],
 "metadata": {
  "kernelspec": {
   "display_name": "Python 3 (ipykernel)",
   "language": "python",
   "name": "python3"
  },
  "language_info": {
   "codemirror_mode": {
    "name": "ipython",
    "version": 3
   },
   "file_extension": ".py",
   "mimetype": "text/x-python",
   "name": "python",
   "nbconvert_exporter": "python",
   "pygments_lexer": "ipython3",
   "version": "3.9.13"
  }
 },
 "nbformat": 4,
 "nbformat_minor": 5
}
